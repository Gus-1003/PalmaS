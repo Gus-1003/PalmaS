{
  "nbformat": 4,
  "nbformat_minor": 0,
  "metadata": {
    "colab": {
      "provenance": [],
      "toc_visible": true,
      "authorship_tag": "ABX9TyOl0bAGfBXEBN/1EXuX8xil",
      "include_colab_link": true
    },
    "kernelspec": {
      "name": "python3",
      "display_name": "Python 3"
    },
    "language_info": {
      "name": "python"
    }
  },
  "cells": [
    {
      "cell_type": "markdown",
      "metadata": {
        "id": "view-in-github",
        "colab_type": "text"
      },
      "source": [
        "<a href=\"https://colab.research.google.com/github/Gus-1003/Processamento-Digital-de-Imagem/blob/main/Pratica_1_Degrade%20e%20Lena.ipynb\" target=\"_parent\"><img src=\"https://colab.research.google.com/assets/colab-badge.svg\" alt=\"Open In Colab\"/></a>"
      ]
    },
    {
      "cell_type": "markdown",
      "source": [
        "# Pratica 1: Introdução a PDI"
      ],
      "metadata": {
        "id": "dF3x2lkLx3D6"
      }
    },
    {
      "cell_type": "markdown",
      "source": [
        "## Principais Bibliotecas para PDI no Python:\n",
        "\n",
        "* ***OpenCV:*** É uma das bibliotecas mais utilizadas em visão computacional e processamento de imagem em Python. Possui funções de processamento de imagem, rastreamento de objetos, detecção de faces, entre outras.\n",
        "\n",
        "* ***Pillow:*** É uma biblioteca Python de processamento de imagens que suporta uma ampla gama de formatos de imagem. Ela é fácil de usar e possui muitas funções de manipulação de imagem, como rotação, corte e redimensionamento.\n",
        "\n",
        "* ***Scikit-image:*** É uma biblioteca Python de processamento de imagem que fornece ferramentas para análise de imagens, transformações geométricas, filtragem, segmentação, detecção de bordas e muito mais.\n",
        "\n",
        "* ***NumPy:*** Embora não seja exclusivamente uma biblioteca de processamento de imagem, é frequentemente utilizada em conjunto com outras bibliotecas para processamento de imagem em Python. NumPy é uma biblioteca fundamental para computação científica com Python e fornece muitas funções úteis para processamento de imagem, como operações matemáticas em matrizes e transformações de Fourier."
      ],
      "metadata": {
        "id": "I_3EyLbOyHhg"
      }
    },
    {
      "cell_type": "code",
      "execution_count": 1,
      "metadata": {
        "colab": {
          "base_uri": "https://localhost:8080/"
        },
        "id": "_KiWhCxaxjrb",
        "outputId": "dbf6acfc-fdbb-47d3-d187-72eb23082217"
      },
      "outputs": [
        {
          "output_type": "stream",
          "name": "stdout",
          "text": [
            "Looking in indexes: https://pypi.org/simple, https://us-python.pkg.dev/colab-wheels/public/simple/\n",
            "Requirement already satisfied: opencv-python in /usr/local/lib/python3.9/dist-packages (4.7.0.72)\n",
            "Requirement already satisfied: numpy>=1.17.3 in /usr/local/lib/python3.9/dist-packages (from opencv-python) (1.22.4)\n"
          ]
        }
      ],
      "source": [
        "pip install opencv-python"
      ]
    },
    {
      "cell_type": "code",
      "source": [
        "import cv2\n",
        "\n",
        "from PIL import Image\n",
        "\n",
        "import skimage\n",
        "\n",
        "import numpy as np\n",
        "\n",
        "import matplotlib.pyplot as plt"
      ],
      "metadata": {
        "id": "DAvh2Nbpypw5"
      },
      "execution_count": 5,
      "outputs": []
    },
    {
      "cell_type": "markdown",
      "source": [
        "## Criando uma imagem vazia:"
      ],
      "metadata": {
        "id": "jkSRBoiL-4mw"
      }
    },
    {
      "cell_type": "markdown",
      "source": [
        "A definição de imagem pode variar dependendo do contexto em que está sendo utilizada, mas em geral, uma imagem pode ser definida como uma representação visual bidimensional de um objeto ou cena capturada por um dispositivo de imagem, como uma câmera ou um scanner.\n",
        "\n",
        "Uma imagem é composta por pixels (ou elementos de imagem), que são pontos individuais que contêm informações de cor e intensidade. Cada pixel é colocado em uma grade ou matriz de pixels, onde a posição de cada pixel é determinada pelas coordenadas de linha e coluna.\n",
        "\n",
        "A resolução da imagem se refere à quantidade de pixels contidos na imagem, e é medida em termos de largura e altura da imagem em pixels. A qualidade da imagem depende da quantidade de detalhes que podem ser visualizados pelos pixels, e é influenciada por fatores como resolução, profundidade de bits, contraste, brilho e nitidez.\n",
        "\n",
        "As imagens podem ser armazenadas em vários formatos, como JPEG, PNG, TIFF e BMP, e podem ser processadas digitalmente usando algoritmos de processamento de imagem para realizar tarefas como correção de cor, detecção de bordas, segmentação de objetos e muito mais.\n",
        "\n",
        "Em resumo, uma imagem é uma representação visual de um objeto ou cena em uma grade bidimensional de pixels, onde cada pixel contém informações de cor e intensidade e pode ser processado digitalmente para realizar tarefas específicas."
      ],
      "metadata": {
        "id": "bTFpVGSa4PLp"
      }
    },
    {
      "cell_type": "code",
      "source": [
        "# criar uma matriz (o que represatira um aglomerado de pixels) vazia (Pixels com intensidade = 0) com 512 linhas e 512 colunas\n",
        "imagem_vazia = np.zeros((501, 501))\n",
        "\n",
        "# exibir a imagem usando o matplotlib\n",
        "plt.imshow(imagem_vazia, cmap='gray')\n",
        "plt.show()"
      ],
      "metadata": {
        "colab": {
          "base_uri": "https://localhost:8080/",
          "height": 435
        },
        "id": "MkJe40Wdy58A",
        "outputId": "ec4fc340-a41d-4dfe-fde9-018e80fa386c"
      },
      "execution_count": 16,
      "outputs": [
        {
          "output_type": "display_data",
          "data": {
            "text/plain": [
              "<Figure size 640x480 with 1 Axes>"
            ],
            "image/png": "[encoded data removed]"
          },
          "metadata": {}
        }
      ]
    },
    {
      "cell_type": "markdown",
      "source": [
        "## Descobrindo as Dimensões da Imagem:"
      ],
      "metadata": {
        "id": "EffLvpw_--PA"
      }
    },
    {
      "cell_type": "code",
      "source": [
        "'''usando o método shape da matriz imagem_vazia para obter uma tupla com as dimensões da matriz. Em seguida, estamos atribuindo \n",
        "os valores da tupla às variáveis linhas e colunas para que possamos exibi-las na saída do console usando a função print().'''\n",
        "\n",
        "# obter as dimensões da matriz\n",
        "linhas, colunas = imagem_vazia.shape\n",
        "\n",
        "print(\"Número de linhas:\", linhas)\n",
        "print(\"Número de colunas:\", colunas)"
      ],
      "metadata": {
        "colab": {
          "base_uri": "https://localhost:8080/"
        },
        "id": "MBg3aCBL9eBI",
        "outputId": "a0454e28-1554-4688-91ec-fbc8f7e9c79e"
      },
      "execution_count": 17,
      "outputs": [
        {
          "output_type": "stream",
          "name": "stdout",
          "text": [
            "Número de linhas: 501\n",
            "Número de colunas: 501\n"
          ]
        }
      ]
    },
    {
      "cell_type": "markdown",
      "source": [
        "## Formas de fazer um degrade:"
      ],
      "metadata": {
        "id": "-XKdfEX0_B0g"
      }
    },
    {
      "cell_type": "markdown",
      "source": [
        "### Forma 1: Uso de laços"
      ],
      "metadata": {
        "id": "9PUmJK6s_Fwg"
      }
    },
    {
      "cell_type": "code",
      "source": [
        "# percorrer cada linha da imagem\n",
        "for linha in range(linhas):\n",
        "    # percorrer cada coluna da imagem\n",
        "    for coluna in range(colunas):\n",
        "        # definir o valor do pixel com base na posição da coluna na imagem\n",
        "        imagem_vazia[linha][coluna] = coluna / 511.0\n",
        "\n",
        "# exibir a imagem do degradê usando o matplotlib\n",
        "plt.imshow(imagem_vazia, cmap='gray')\n",
        "plt.show()    "
      ],
      "metadata": {
        "colab": {
          "base_uri": "https://localhost:8080/",
          "height": 435
        },
        "id": "l89I6-T299_4",
        "outputId": "e5c96793-1471-4b0f-99aa-1eb70af09327"
      },
      "execution_count": 18,
      "outputs": [
        {
          "output_type": "display_data",
          "data": {
            "text/plain": [
              "<Figure size 640x480 with 1 Axes>"
            ],
            "image/png": "[encoded data removed]"
          },
          "metadata": {}
        }
      ]
    },
    {
      "cell_type": "markdown",
      "source": [
        "Neste exemplo, estamos usando dois loops for para percorrer cada linha e coluna da matriz da imagem. Para cada pixel da imagem, definimos o valor do pixel como a posição da coluna normalizada para um valor entre 0 e 1.\n",
        "\n",
        "O resultado é uma matriz que contém valores de pixel que variam de preto (valor 0) no início da linha até branco (valor 1) no final da linha, criando um degradê horizontal.\n",
        "\n",
        "Finalmente, usamos a função imshow() do Matplotlib para exibir a imagem do degradê. A opção cmap='gray' é usada para definir a escala de cores da imagem como escala de cinza.\n",
        "\n",
        "Você pode alterar a forma como o valor do pixel é calculado no loop for interno para criar diferentes tipos de degradês horizontais."
      ],
      "metadata": {
        "id": "Kngw9u1Z_9PJ"
      }
    },
    {
      "cell_type": "code",
      "source": [
        "# definir o número de tons desejados\n",
        "num_tons = 256\n",
        "\n",
        "# percorrer cada linha da imagem\n",
        "for linha in range(501):\n",
        "    # percorrer cada coluna da imagem\n",
        "    for coluna in range(501):\n",
        "        # definir o valor máximo que um pixel pode ter\n",
        "        max_valor_pixel = num_tons - 1\n",
        "        # definir o valor do pixel com base na posição da coluna na imagem\n",
        "        imagem_vazia[linha][coluna] = coluna * max_valor_pixel / 500.0\n",
        "\n",
        "# exibir a imagem do degradê usando o matplotlib\n",
        "plt.imshow(imagem_vazia, cmap='gray')\n",
        "plt.show()"
      ],
      "metadata": {
        "colab": {
          "base_uri": "https://localhost:8080/",
          "height": 435
        },
        "id": "Py18JeXHAqco",
        "outputId": "b7483fb5-ed34-4d74-843e-a94433a7bc2c"
      },
      "execution_count": 24,
      "outputs": [
        {
          "output_type": "display_data",
          "data": {
            "text/plain": [
              "<Figure size 640x480 with 1 Axes>"
            ],
            "image/png": "[encoded data removed]"
          },
          "metadata": {}
        }
      ]
    },
    {
      "cell_type": "markdown",
      "source": [
        "Neste exemplo, estamos definindo a variável num_tons com o número de tons desejados. Em seguida, estamos criando uma matriz numpy vazia com o mesmo tamanho da imagem anterior.\n",
        "\n",
        "Ao percorrer cada pixel da imagem, estamos definindo o valor máximo que um pixel pode ter com base no número de tons desejados. Em seguida, estamos definindo o valor de cada pixel com base na posição da coluna na imagem, dividindo esse valor pelo valor máximo permitido, de modo que os valores de pixel variem de 0 a 1.\n",
        "\n",
        "Finalmente, usamos a função imshow() do Matplotlib para exibir a imagem do degradê em escala de cinza. Note que, agora, estamos criando 256 tons de cinza, o que significa que a imagem terá pixels com valores inteiros de 0 a 255."
      ],
      "metadata": {
        "id": "HLnX3mywBH7w"
      }
    },
    {
      "cell_type": "markdown",
      "source": [
        "### Forma 2: Aplicação de funções do Numpy"
      ],
      "metadata": {
        "id": "Q9bgyknR_KIp"
      }
    },
    {
      "cell_type": "code",
      "source": [
        "# criar uma matriz numpy com uma escala de cinza linear (0 = preto, 1 = branco)\n",
        "escala_cinza = np.linspace(0, 1, 501)\n",
        "\n",
        "'''A função np.outer() é usada para criar uma matriz bidimensional onde cada linha representa a \n",
        "escala de cinza e a largura da imagem é preenchida com o valor 1.'''\n",
        "# mesclar a matriz da escala de cinza com a matriz vazia da imagem para criar o degradê\n",
        "imagem_degrade = np.outer(escala_cinza, np.ones(501))\n",
        "\n",
        "# a função imshow() do Matplotlib é usada para exibir a imagem. \n",
        "# O parametro cmap='gray' é usada para definir a escala de cores da imagem como escala de cinza.\n",
        "plt.imshow(imagem_degrade, cmap='gray')\n",
        "plt.show()"
      ],
      "metadata": {
        "colab": {
          "base_uri": "https://localhost:8080/",
          "height": 435
        },
        "id": "xZI7moW_48JR",
        "outputId": "fb092329-7deb-4f2d-cfa0-fd23d1752008"
      },
      "execution_count": 20,
      "outputs": [
        {
          "output_type": "display_data",
          "data": {
            "text/plain": [
              "<Figure size 640x480 with 1 Axes>"
            ],
            "image/png": "[encoded data removed]"
          },
          "metadata": {}
        }
      ]
    },
    {
      "cell_type": "code",
      "source": [
        "escala_verde = np.linspace(0, 1, 501)\n",
        "imagem_degrade = np.outer(np.ones(501), escala_verde)\n",
        "plt.imshow(imagem_degrade)"
      ],
      "metadata": {
        "colab": {
          "base_uri": "https://localhost:8080/",
          "height": 452
        },
        "id": "QXxZcXTL5qYR",
        "outputId": "90b30595-af9d-44c1-c8fa-bf753c052e98"
      },
      "execution_count": 21,
      "outputs": [
        {
          "output_type": "execute_result",
          "data": {
            "text/plain": [
              "<matplotlib.image.AxesImage at 0x7f1372ac8d60>"
            ]
          },
          "metadata": {},
          "execution_count": 21
        },
        {
          "output_type": "display_data",
          "data": {
            "text/plain": [
              "<Figure size 640x480 with 1 Axes>"
            ],
            "image/png": "[encoded data removed]"
          },
          "metadata": {}
        }
      ]
    },
    {
      "cell_type": "markdown",
      "source": [
        "você pode usar a biblioteca NumPy para criar uma matriz de valores que representam uma escala de cores. A matriz de valores de cor será então mesclada com a matriz vazia da imagem, criando um degradê."
      ],
      "metadata": {
        "id": "ivGgZP2G54iT"
      }
    },
    {
      "cell_type": "markdown",
      "source": [
        "Imagem: Lena"
      ],
      "metadata": {
        "id": "40Q6P-SSyAHZ"
      }
    }
  ]
}